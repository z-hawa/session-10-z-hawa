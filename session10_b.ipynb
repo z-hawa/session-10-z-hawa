{
  "nbformat": 4,
  "nbformat_minor": 0,
  "metadata": {
    "colab": {
      "name": "session10_b.ipynb",
      "provenance": [],
      "collapsed_sections": [],
      "toc_visible": true
    },
    "kernelspec": {
      "name": "python3",
      "display_name": "Python 3"
    },
    "language_info": {
      "name": "python"
    }
  },
  "cells": [
    {
      "cell_type": "code",
      "metadata": {
        "colab": {
          "base_uri": "https://localhost:8080/"
        },
        "id": "6iHx4kKGwLs_",
        "outputId": "7625dbd0-cde3-4685-902f-5e008aab31b9"
      },
      "source": [
        "from typing import Union\n",
        "import math\n",
        "\n",
        "class RegPolygon:\n",
        "    def __init__(self,vertices:int,circumradius:Union[float,int]):\n",
        "        '''Initialise all properties here'''\n",
        "        if isinstance(vertices,int):\n",
        "            if vertices<3:\n",
        "                raise ValueError(\"Vertex for a polygon cannot be less than 3!\")\n",
        "        else:\n",
        "            raise TypeError\n",
        "        self.edges=vertices\n",
        "        self.circumradius=circumradius\n",
        "        self.interiorangle=(vertices-2)*180/vertices\n",
        "        self.edgelength=2*circumradius*math.sin(math.pi/vertices)\n",
        "        self.apothem=circumradius*math.cos(math.pi/vertices)\n",
        "        self.area=0.5*vertices*self.apothem*self.edgelength\n",
        "        self.perimeter=vertices*self.edgelength\n",
        "    \n",
        "\n",
        "    def __eq__(self, o: object) -> bool:\n",
        "        '''Checks if object provided is equal to the current object'''\n",
        "        if isinstance(o,RegPolygon):\n",
        "            return self.circumradius==o.circumradius and self.edges==o.edges\n",
        "        else:\n",
        "            return False\n",
        "    def __repr__(self) -> str:\n",
        "        '''Representation of the instance'''\n",
        "        return \"RegPolygon class instance for storing properties of a regular polygon\"\n",
        "    \n",
        "    def __gt__(self,o:object) -> bool:\n",
        "        '''Checks if object provided is larger than the current object'''\n",
        "        if isinstance(o,RegPolygon):\n",
        "            return self.edges>o.edges\n",
        "        else:\n",
        "            return False\n",
        "\n",
        "class SpecialPolygon:\n",
        "    def __init__(self,MaxVertice:int,Circum:Union[float,int]) -> None:\n",
        "        '''Initialises all the properties'''\n",
        "        if isinstance(MaxVertice,int):\n",
        "            if MaxVertice<3:\n",
        "                raise ValueError(\"Vertex for a polygon cannot be less than 3!\")\n",
        "        else:\n",
        "            raise TypeError\n",
        "        self.MaxVertice=MaxVertice\n",
        "        self.Circum=Circum\n",
        "    \n",
        "    def __getitem__(self,vertex:int)->float:\n",
        "        '''This function returns the area at the specific index'''\n",
        "        if isinstance(vertex,int):\n",
        "            # To emulate reverse indexing\n",
        "            if vertex<0:\n",
        "                vertex=vertex+self.MaxVertice+1\n",
        "            if vertex<3:\n",
        "                raise IndexError(\"A Polygon with less than 3 sides does not exist!\")\n",
        "            if vertex>self.MaxVertice:\n",
        "                raise IndexError(\"A Polygon with that vertice is out of bounds!\")\n",
        "            else:\n",
        "                temp=RegPolygon(vertex,self.Circum)\n",
        "                return temp.area/temp.perimeter\n",
        "        else:\n",
        "            raise TypeError(\"Index does not accept strings\")\n",
        "    \n",
        "    def __len__(self) -> int:\n",
        "        '''Returns the length of this Polygon instance'''\n",
        "        return self.MaxVertice-2  #Since Polygons with less than 3 sides do not exist\n",
        "\n",
        "    def __repr__(self) -> str:\n",
        "        '''Representation of the instance'''\n",
        "        return \"Custom Polygon sequence with a max efficiency function\"\n",
        "    \n",
        "    def highest_ratios(self) -> int:\n",
        "        '''Calculates all ratios and finds the highest one'''\n",
        "        ratiodict={}\n",
        "        for i in range(3,self.MaxVertice):\n",
        "            temp=RegPolygon(i,self.Circum)\n",
        "            ratiodict[i]=temp.area/temp.perimeter\n",
        "        return max(ratiodict.values())\n",
        "\n",
        "Polygon=SpecialPolygon(9,10)\n",
        "print(Polygon.highest_ratios(),Polygon.__repr__(),Polygon.MaxVertice,Polygon.__getitem__(4),Polygon.__len__(),sep=\"\\n\")"
      ],
      "execution_count": 8,
      "outputs": [
        {
          "output_type": "stream",
          "text": [
            "4.619397662556434\n",
            "Custom Polygon sequence with a max efficiency function\n",
            "9\n",
            "3.5355339059327378\n",
            "7\n"
          ],
          "name": "stdout"
        }
      ]
    }
  ]
}
{
  "nbformat": 4,
  "nbformat_minor": 0,
  "metadata": {
    "colab": {
      "name": "session10_a.ipynb",
      "provenance": [],
      "collapsed_sections": []
    },
    "kernelspec": {
      "name": "python3",
      "display_name": "Python 3"
    },
    "language_info": {
      "name": "python"
    }
  },
  "cells": [
    {
      "cell_type": "code",
      "metadata": {
        "colab": {
          "base_uri": "https://localhost:8080/"
        },
        "id": "_gKo2-EJrH21",
        "outputId": "32fe5bbd-64ba-4425-b639-1a3fef97847e"
      },
      "source": [
        "import math\n",
        "from typing import Union\n",
        "\n",
        "\n",
        "class RegPolygon:\n",
        "    def __init__(self,vertices:int,circumradius:Union[float,int]):\n",
        "        '''Initialise all properties here'''\n",
        "        if isinstance(vertices,int):\n",
        "            if vertices<2:\n",
        "                raise ValueError(\"Vertex for a polygon cannot be less than 2!\")\n",
        "        else:\n",
        "            raise TypeError\n",
        "        self.edges=vertices\n",
        "        self.circumradius=circumradius\n",
        "        self.interiorangle=(vertices-2)*180/vertices\n",
        "        self.edgelength=2*circumradius*math.sin(math.pi/vertices)\n",
        "        self.apothem=circumradius*math.cos(math.pi/vertices)\n",
        "        self.area=0.5*vertices*self.apothem*self.edgelength\n",
        "        self.perimeter=vertices*self.edgelength\n",
        "    \n",
        "\n",
        "    def __eq__(self, o: object) -> bool:\n",
        "        '''Checks if object provided is equal to the current object'''\n",
        "        if isinstance(o,RegPolygon):\n",
        "            return self.circumradius==o.circumradius and self.edges==o.edges\n",
        "        else:\n",
        "            return False\n",
        "    def __repr__(self) -> str:\n",
        "        '''Representation of the instance'''\n",
        "        return \"RegPolygon class instance for storing properties of a regular polygon\"\n",
        "    \n",
        "    def __gt__(self,o:object) -> bool:\n",
        "        '''Checks if object provided is larger than the current object'''\n",
        "        if isinstance(o,RegPolygon):\n",
        "            return self.edges>o.edges\n",
        "        else:\n",
        "            return False\n",
        "\n",
        "\n",
        "Polygon1=RegPolygon(3,4)\n",
        "print(Polygon1.perimeter,Polygon1.circumradius,Polygon1.edgelength,Polygon1.interiorangle,Polygon1.edges,Polygon1.apothem,RegPolygon(2,3)>Polygon1,sep=\"\\n\")\n",
        "\n",
        "        \n",
        "\n"
      ],
      "execution_count": 1,
      "outputs": [
        {
          "output_type": "stream",
          "text": [
            "20.784609690826528\n",
            "4\n",
            "6.928203230275509\n",
            "60.0\n",
            "3\n",
            "2.0000000000000004\n",
            "False\n"
          ],
          "name": "stdout"
        }
      ]
    }
  ]
}